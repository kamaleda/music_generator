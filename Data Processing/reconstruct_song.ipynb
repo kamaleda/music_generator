{
 "cells": [
  {
   "cell_type": "code",
   "execution_count": 1,
   "id": "1ca81d11",
   "metadata": {},
   "outputs": [],
   "source": [
    "from music21 import note,stream"
   ]
  },
  {
   "cell_type": "code",
   "execution_count": 2,
   "id": "5ec9c65b",
   "metadata": {},
   "outputs": [],
   "source": [
    "# Reconstruct a song from the multi-hot encoding\n",
    "def reconMusic(song):\n",
    "    recon_A = stream.Stream();\n",
    "    #Insert back the timestamps\n",
    "    A = np.insert(song,0,np.arange(0,16,0.0625),axis=1)\n",
    "    for row in range(A.shape[0]):\n",
    "        for column in range(1,A.shape[1]):\n",
    "            if(A[row,column]>0 and row+1<A.shape[0]):\n",
    "                nt = note.Note()\n",
    "                nt.pitch.midi = column-1\n",
    "                ln_strt = 0\n",
    "                i=1\n",
    "                val = A[row+1,column]\n",
    "                while(val < 0 and row+i<A.shape[0]):\n",
    "                    ln_strt=ln_strt+0.0625\n",
    "                    val = A[row+i,column]\n",
    "                    i=i+1\n",
    "                if(row+i == A.shape[0]):\n",
    "                    ln_strt= ln_strt+0.0625\n",
    "                nt.quarterLength = ln_strt\n",
    "                recon_A.append(nt)\n",
    "                nt.offset = A[row,0]-A[0,0]\n",
    "    return(recon_A)"
   ]
  },
  {
   "cell_type": "code",
   "execution_count": null,
   "id": "77650bcd",
   "metadata": {},
   "outputs": [],
   "source": [
    "reconstructed_song = reconMusic(song)\n",
    "\n",
    "#To show as midi\n",
    "reconstructed_song.show('mid')\n",
    "\n",
    "#To save the file\n",
    "fp = reconstructed_song.write('midi', fp='your directory here')"
   ]
  }
 ],
 "metadata": {
  "kernelspec": {
   "display_name": "Python (tf-gpu-clone)",
   "language": "python",
   "name": "tf-gpu-clone"
  },
  "language_info": {
   "codemirror_mode": {
    "name": "ipython",
    "version": 3
   },
   "file_extension": ".py",
   "mimetype": "text/x-python",
   "name": "python",
   "nbconvert_exporter": "python",
   "pygments_lexer": "ipython3",
   "version": "3.8.1"
  }
 },
 "nbformat": 4,
 "nbformat_minor": 5
}
